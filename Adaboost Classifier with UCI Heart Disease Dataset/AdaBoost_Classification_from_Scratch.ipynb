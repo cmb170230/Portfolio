{
  "cells": [
    {
      "cell_type": "markdown",
      "metadata": {
        "id": "view-in-github",
        "colab_type": "text"
      },
      "source": [
        "<a href=\"https://colab.research.google.com/github/cmb170230/Portfolio/blob/main/Adaboost%20Classifier%20with%20UCI%20Heart%20Disease%20Dataset/AdaBoost_Classification_from_Scratch.ipynb\" target=\"_parent\"><img src=\"https://colab.research.google.com/assets/colab-badge.svg\" alt=\"Open In Colab\"/></a>"
      ]
    },
    {
      "cell_type": "code",
      "execution_count": null,
      "metadata": {
        "colab": {
          "base_uri": "https://localhost:8080/",
          "height": 108
        },
        "id": "ApMpfXl07GeW",
        "outputId": "fb779104-fdb8-44a0-fb93-beb5f19b61f9"
      },
      "outputs": [
        {
          "output_type": "display_data",
          "data": {
            "text/plain": [
              "<IPython.core.display.HTML object>"
            ],
            "text/html": [
              "\n",
              "     <input type=\"file\" id=\"files-2d5cdf48-9bd6-4de9-a1d6-e20c10235a5c\" name=\"files[]\" multiple disabled\n",
              "        style=\"border:none\" />\n",
              "     <output id=\"result-2d5cdf48-9bd6-4de9-a1d6-e20c10235a5c\">\n",
              "      Upload widget is only available when the cell has been executed in the\n",
              "      current browser session. Please rerun this cell to enable.\n",
              "      </output>\n",
              "      <script>// Copyright 2017 Google LLC\n",
              "//\n",
              "// Licensed under the Apache License, Version 2.0 (the \"License\");\n",
              "// you may not use this file except in compliance with the License.\n",
              "// You may obtain a copy of the License at\n",
              "//\n",
              "//      http://www.apache.org/licenses/LICENSE-2.0\n",
              "//\n",
              "// Unless required by applicable law or agreed to in writing, software\n",
              "// distributed under the License is distributed on an \"AS IS\" BASIS,\n",
              "// WITHOUT WARRANTIES OR CONDITIONS OF ANY KIND, either express or implied.\n",
              "// See the License for the specific language governing permissions and\n",
              "// limitations under the License.\n",
              "\n",
              "/**\n",
              " * @fileoverview Helpers for google.colab Python module.\n",
              " */\n",
              "(function(scope) {\n",
              "function span(text, styleAttributes = {}) {\n",
              "  const element = document.createElement('span');\n",
              "  element.textContent = text;\n",
              "  for (const key of Object.keys(styleAttributes)) {\n",
              "    element.style[key] = styleAttributes[key];\n",
              "  }\n",
              "  return element;\n",
              "}\n",
              "\n",
              "// Max number of bytes which will be uploaded at a time.\n",
              "const MAX_PAYLOAD_SIZE = 100 * 1024;\n",
              "\n",
              "function _uploadFiles(inputId, outputId) {\n",
              "  const steps = uploadFilesStep(inputId, outputId);\n",
              "  const outputElement = document.getElementById(outputId);\n",
              "  // Cache steps on the outputElement to make it available for the next call\n",
              "  // to uploadFilesContinue from Python.\n",
              "  outputElement.steps = steps;\n",
              "\n",
              "  return _uploadFilesContinue(outputId);\n",
              "}\n",
              "\n",
              "// This is roughly an async generator (not supported in the browser yet),\n",
              "// where there are multiple asynchronous steps and the Python side is going\n",
              "// to poll for completion of each step.\n",
              "// This uses a Promise to block the python side on completion of each step,\n",
              "// then passes the result of the previous step as the input to the next step.\n",
              "function _uploadFilesContinue(outputId) {\n",
              "  const outputElement = document.getElementById(outputId);\n",
              "  const steps = outputElement.steps;\n",
              "\n",
              "  const next = steps.next(outputElement.lastPromiseValue);\n",
              "  return Promise.resolve(next.value.promise).then((value) => {\n",
              "    // Cache the last promise value to make it available to the next\n",
              "    // step of the generator.\n",
              "    outputElement.lastPromiseValue = value;\n",
              "    return next.value.response;\n",
              "  });\n",
              "}\n",
              "\n",
              "/**\n",
              " * Generator function which is called between each async step of the upload\n",
              " * process.\n",
              " * @param {string} inputId Element ID of the input file picker element.\n",
              " * @param {string} outputId Element ID of the output display.\n",
              " * @return {!Iterable<!Object>} Iterable of next steps.\n",
              " */\n",
              "function* uploadFilesStep(inputId, outputId) {\n",
              "  const inputElement = document.getElementById(inputId);\n",
              "  inputElement.disabled = false;\n",
              "\n",
              "  const outputElement = document.getElementById(outputId);\n",
              "  outputElement.innerHTML = '';\n",
              "\n",
              "  const pickedPromise = new Promise((resolve) => {\n",
              "    inputElement.addEventListener('change', (e) => {\n",
              "      resolve(e.target.files);\n",
              "    });\n",
              "  });\n",
              "\n",
              "  const cancel = document.createElement('button');\n",
              "  inputElement.parentElement.appendChild(cancel);\n",
              "  cancel.textContent = 'Cancel upload';\n",
              "  const cancelPromise = new Promise((resolve) => {\n",
              "    cancel.onclick = () => {\n",
              "      resolve(null);\n",
              "    };\n",
              "  });\n",
              "\n",
              "  // Wait for the user to pick the files.\n",
              "  const files = yield {\n",
              "    promise: Promise.race([pickedPromise, cancelPromise]),\n",
              "    response: {\n",
              "      action: 'starting',\n",
              "    }\n",
              "  };\n",
              "\n",
              "  cancel.remove();\n",
              "\n",
              "  // Disable the input element since further picks are not allowed.\n",
              "  inputElement.disabled = true;\n",
              "\n",
              "  if (!files) {\n",
              "    return {\n",
              "      response: {\n",
              "        action: 'complete',\n",
              "      }\n",
              "    };\n",
              "  }\n",
              "\n",
              "  for (const file of files) {\n",
              "    const li = document.createElement('li');\n",
              "    li.append(span(file.name, {fontWeight: 'bold'}));\n",
              "    li.append(span(\n",
              "        `(${file.type || 'n/a'}) - ${file.size} bytes, ` +\n",
              "        `last modified: ${\n",
              "            file.lastModifiedDate ? file.lastModifiedDate.toLocaleDateString() :\n",
              "                                    'n/a'} - `));\n",
              "    const percent = span('0% done');\n",
              "    li.appendChild(percent);\n",
              "\n",
              "    outputElement.appendChild(li);\n",
              "\n",
              "    const fileDataPromise = new Promise((resolve) => {\n",
              "      const reader = new FileReader();\n",
              "      reader.onload = (e) => {\n",
              "        resolve(e.target.result);\n",
              "      };\n",
              "      reader.readAsArrayBuffer(file);\n",
              "    });\n",
              "    // Wait for the data to be ready.\n",
              "    let fileData = yield {\n",
              "      promise: fileDataPromise,\n",
              "      response: {\n",
              "        action: 'continue',\n",
              "      }\n",
              "    };\n",
              "\n",
              "    // Use a chunked sending to avoid message size limits. See b/62115660.\n",
              "    let position = 0;\n",
              "    do {\n",
              "      const length = Math.min(fileData.byteLength - position, MAX_PAYLOAD_SIZE);\n",
              "      const chunk = new Uint8Array(fileData, position, length);\n",
              "      position += length;\n",
              "\n",
              "      const base64 = btoa(String.fromCharCode.apply(null, chunk));\n",
              "      yield {\n",
              "        response: {\n",
              "          action: 'append',\n",
              "          file: file.name,\n",
              "          data: base64,\n",
              "        },\n",
              "      };\n",
              "\n",
              "      let percentDone = fileData.byteLength === 0 ?\n",
              "          100 :\n",
              "          Math.round((position / fileData.byteLength) * 100);\n",
              "      percent.textContent = `${percentDone}% done`;\n",
              "\n",
              "    } while (position < fileData.byteLength);\n",
              "  }\n",
              "\n",
              "  // All done.\n",
              "  yield {\n",
              "    response: {\n",
              "      action: 'complete',\n",
              "    }\n",
              "  };\n",
              "}\n",
              "\n",
              "scope.google = scope.google || {};\n",
              "scope.google.colab = scope.google.colab || {};\n",
              "scope.google.colab._files = {\n",
              "  _uploadFiles,\n",
              "  _uploadFilesContinue,\n",
              "};\n",
              "})(self);\n",
              "</script> "
            ]
          },
          "metadata": {}
        },
        {
          "output_type": "stream",
          "name": "stdout",
          "text": [
            "Saving heart_test.data to heart_test.data\n",
            "Saving heart_train.data to heart_train.data\n"
          ]
        }
      ],
      "source": [
        "import numpy as np\n",
        "import pandas as pd\n",
        "\n",
        "from google.colab import files\n",
        "uploaded = files.upload()"
      ]
    },
    {
      "cell_type": "code",
      "execution_count": null,
      "metadata": {
        "id": "Vb2VNOlZ_EhJ"
      },
      "outputs": [],
      "source": []
    },
    {
      "cell_type": "code",
      "execution_count": null,
      "metadata": {
        "colab": {
          "base_uri": "https://localhost:8080/"
        },
        "id": "XO7UAcbt82Ff",
        "outputId": "8075365e-5644-4cae-e71e-7ee941a0a44c"
      },
      "outputs": [
        {
          "output_type": "stream",
          "name": "stdout",
          "text": [
            "[[0 0 0 ... 0 0 0]\n",
            " [0 0 1 ... 0 0 1]\n",
            " [1 0 1 ... 0 0 0]\n",
            " ...\n",
            " [1 0 0 ... 0 0 0]\n",
            " [0 0 1 ... 0 1 1]\n",
            " [1 0 0 ... 0 0 0]] [1 1 1 1 1 1 1 1 1 1 1 1 1 1 1 1 1 1 1 1 1 1 1 1 1 1 1 1 1 1 1 1 1 1 1 1 1\n",
            " 1 1 1 0 0 0 0 0 0 0 0 0 0 0 0 0 0 0 0 0 0 0 0 0 0 0 0 0 0 0 0 0 0 0 0 0 0\n",
            " 0 0 0 0 0 0]\n"
          ]
        }
      ],
      "source": [
        "import io\n",
        "tr_df = pd.read_csv(io.BytesIO(uploaded['heart_train.data']), header=None, index_col = False)\n",
        "te_df = pd.read_csv(io.BytesIO(uploaded['heart_test.data']), header=None, index_col= False)\n",
        "train = tr_df.to_numpy()\n",
        "test = te_df.to_numpy()\n",
        "x_train = train[:,1:]\n",
        "y_train = train[:,0]\n",
        "x_test = test[:,1:]\n",
        "y_test = test[:,0]\n",
        "\n",
        "print(x_train, y_train)"
      ]
    },
    {
      "cell_type": "code",
      "execution_count": null,
      "metadata": {
        "id": "QRybAuOIAr8H"
      },
      "outputs": [],
      "source": [
        "##Structure\n",
        "#construct trees (tree/node class)\n",
        "#classify/update weight sum\n",
        "#compute alpha\n",
        "#update weights\n",
        "\n",
        "#construct hypotheses\n",
        "#for each possible decision tree, find vals for leaf by majority vote\n",
        "class Node:\n",
        "  def __init__(self):\n",
        "    self.attr = None\n",
        "    self.attrVal = None\n",
        "    self.child1 = None\n",
        "    self.child2 = None\n",
        "  def __init__(self, attr, attrVal):\n",
        "    self.attr = attr\n",
        "    self.attrVal = attrVal\n",
        "    self.child1 = None\n",
        "    self.child2 = None\n",
        "\n",
        "class DecisionTree:\n",
        "  def __init__(self, head):\n",
        "    self.head = head\n",
        "\n"
      ]
    },
    {
      "cell_type": "code",
      "execution_count": null,
      "metadata": {
        "id": "69YKUHT3qt3W"
      },
      "outputs": [],
      "source": [
        "##TRASH DO NOT RUN\n",
        "#decisionList = list()\n",
        "\n",
        "#for i in range(1, x_train.shape[1]+1):\n",
        "  #for j in range(1, x_train.shape[1]+1):\n",
        "    #decisionList.append(DecisionTree(Node(i,0)))\n",
        "    #decisionList[i+j].head.child1 = Node(j, 0)\n",
        "    #decisionList[i+j].head.child2 = Node(j, 1)\n",
        "    #decisionList.append(DecisionTree(Node(i,1)))\n",
        "    #decisionList[i+1].head.child1 = Node(j, 0)\n",
        "    #decisionList[i+1].head.child2 = Node(j, 1)\n",
        "#len(decisionList)\n",
        "\n"
      ]
    },
    {
      "cell_type": "code",
      "execution_count": null,
      "metadata": {
        "colab": {
          "base_uri": "https://localhost:8080/"
        },
        "id": "z6aQYerTvDhO",
        "outputId": "8510f470-68bd-44cb-8714-21883e906c0f"
      },
      "outputs": [
        {
          "output_type": "stream",
          "name": "stdout",
          "text": [
            "# of trees constructed: 7744\n",
            "22^2*8*2=  7744\n"
          ]
        }
      ],
      "source": [
        "#Generates all possible trees and stores them in a list\n",
        "#node with attribute -1: head node\n",
        "#node with attribute -2: label assigned to a node\n",
        "import copy\n",
        "count = 0\n",
        "treeList = list()\n",
        "for i in range(0, x_train.shape[1]):\n",
        "  #create all possible first splits\n",
        "  tree = DecisionTree(Node(-1, -1))\n",
        "  tree.head.child1 = Node(i, 1)\n",
        "  tree.head.child2 = Node(i, 0)\n",
        "  for j in range(0, x_train.shape[1]):\n",
        "    #create all possible left-hand splits\n",
        "    copy1 = copy.deepcopy(tree)\n",
        "    copy1.head.child1.child1 = Node(j, 0)\n",
        "    copy1.head.child1.child2 = Node(j, 1)\n",
        "    #treeList.append(copy1)\n",
        "    for k in range(8):\n",
        "      #create all labelings for each split\n",
        "      copy2 = copy.deepcopy(copy1)\n",
        "      if(k < 4):\n",
        "        copy2.head.child1.child1.child1 = Node(-2, 0)\n",
        "      else:\n",
        "        copy2.head.child1.child1.child1 = Node(-2, 1)\n",
        "      if(k < 2 or (k >= 4 and k < 6)):\n",
        "        copy2.head.child1.child2.child1 = Node(-2, 0)\n",
        "      else:\n",
        "        copy2.head.child1.child2.child1 = Node(-2, 1)\n",
        "      copy2.head.child2.child1 = Node(-2, k%2)\n",
        "      treeList.append(copy2)\n",
        "  for j in range(0, x_train.shape[1]):\n",
        "    #create all possible right-hand splits\n",
        "    copy1_1 = copy.deepcopy(tree)\n",
        "    copy1_1.head.child2.child1 = Node(j, 0)\n",
        "    copy1_1.head.child2.child2 = Node(j, 1)\n",
        "    #treeList.append(copy1_1)\n",
        "    for k in range(8):\n",
        "      #create all possible labelings for each split\n",
        "      copy2_1 = copy.deepcopy(copy1_1)\n",
        "      if(k < 4):\n",
        "        copy2_1.head.child2.child1.child1 = Node(-2, 0)\n",
        "      else:\n",
        "        copy2_1.head.child2.child1.child1 = Node(-2, 1)\n",
        "      if(k < 2 or (k >= 4 and k < 6)):\n",
        "        copy2_1.head.child2.child2.child1 = Node(-2, 0)\n",
        "      else:\n",
        "        copy2_1.head.child2.child2.child1 = Node(-2, 1)\n",
        "      copy2_1.head.child1.child1 = Node(-2, k%2)\n",
        "      treeList.append(copy2_1)\n",
        "print(\"# of trees constructed:\", len(treeList))\n",
        "print(\"22^2*8*2= \", 22*22*8*2)"
      ]
    },
    {
      "cell_type": "code",
      "execution_count": null,
      "metadata": {
        "colab": {
          "base_uri": "https://localhost:8080/"
        },
        "id": "uqa78AaFsFAw",
        "outputId": "1369a415-661c-4eb8-98fb-815f6f03e5af"
      },
      "outputs": [
        {
          "output_type": "stream",
          "name": "stdout",
          "text": [
            "-1 -1\n",
            "7 1\n",
            "15 0\n",
            "15 1\n",
            "-2 0\n",
            "-2 1\n",
            "7 0\n",
            "-2 1\n"
          ]
        }
      ],
      "source": [
        "#debug: look at a given tree in detail\n",
        "examine = treeList[2587]\n",
        "print(examine.head.attr, examine.head.attrVal)\n",
        "examine1_1 = examine.head.child1\n",
        "print(examine1_1.attr, examine1_1.attrVal)\n",
        "if(examine1_1.child1.attr != -2):\n",
        "  print(examine1_1.child1.attr, examine1_1.child1.attrVal)\n",
        "  print(examine1_1.child2.attr, examine1_1.child2.attrVal)\n",
        "  print(examine1_1.child1.child1.attr, examine1_1.child1.child1.attrVal)\n",
        "  print(examine1_1.child2.child1.attr, examine1_1.child2.child1.attrVal)\n",
        "else:\n",
        "  print(examine1_1.child1.attr, examine1_1.child1.attrVal)\n",
        "examine1_2 = examine.head.child2\n",
        "print(examine1_2.attr, examine1_2.attrVal)\n",
        "if(examine1_2.child1.attr != -2):\n",
        "  print(examine1_2.child1.attr, examine1_2.child1.attrVal)\n",
        "  print(examine1_2.child2.attr, examine1_2.child2.attrVal)\n",
        "  print(examine1_2.child1.child1.attr, examine1_2.child1.child1.attrVal)\n",
        "  print(examine1_2.child2.child1.attr, examine1_2.child2.child1.attrVal)\n",
        "else:\n",
        "  print(examine1_2.child1.attr, examine1_2.child1.attrVal)"
      ]
    },
    {
      "cell_type": "code",
      "execution_count": null,
      "metadata": {
        "id": "aTNGYhQJBDEJ"
      },
      "outputs": [],
      "source": [
        "#indicator function\n",
        "def indicator(dtree, datapoint, yval):\n",
        "  #find the first attribute to check the split on\n",
        "  split1 = dtree.head.child1.attr\n",
        "  dataVal1 = datapoint[split1]\n",
        "  label = None\n",
        "  #if the tree is left-handed and the left side should be searched\n",
        "  if(dataVal1 == 0 and dtree.head.child1.child1.attr != -2):\n",
        "    l1 = 0\n",
        "    split2 = dtree.head.child1.child1.attr\n",
        "    dataVal2 = datapoint[split2]\n",
        "    #if the predicted label is on the left child\n",
        "    if(dataVal2 == 0):\n",
        "      l2 = 0\n",
        "      label = dtree.head.child1.child1.child1.attrVal\n",
        "    #if the predicted label is on the right child\n",
        "    else:\n",
        "      l2 = 1\n",
        "      label = dtree.head.child1.child2.child1.attrVal\n",
        "  #if the tree is right handed and the right side should be searched\n",
        "  elif(dataVal1 == 1 and dtree.head.child2.child1.attr != -2):\n",
        "    l1 = 1\n",
        "    split2 = dtree.head.child2.child1.attr\n",
        "    dataVal2 = datapoint[split2]\n",
        "    #if the predicted label is on the left child\n",
        "    if(dataVal2 == 0):\n",
        "      l2 = 0\n",
        "      label = dtree.head.child2.child1.child1.attrVal\n",
        "    #if the predicted label is on the right child\n",
        "    else:\n",
        "      l2 = 1\n",
        "      label = dtree.head.child2.child2.child1.attrVal\n",
        "  #if the tree is right-handed and the predicted label is on the left\n",
        "  elif(dataVal1 == 0):\n",
        "    l1 = 0\n",
        "    l2 = -1\n",
        "    label = dtree.head.child1.child1.attrVal\n",
        "  #if the tree is left-handed and the predicted label is on the right\n",
        "  elif(dataVal1 == 1):\n",
        "    l1 = 1\n",
        "    l2 = -1\n",
        "    label = dtree.head.child2.child1.attrVal\n",
        "  else:\n",
        "    l1 = -1\n",
        "    l2 = -1\n",
        "    return None\n",
        "  #if it is correctly classified, return 0, else return 1 (returning of label for weight updates)\n",
        "  if(label == yval):\n",
        "   # print(l1, split1, l2)\n",
        "    return 0, label\n",
        "  else:\n",
        "   # print(l1, split1, l2)\n",
        "    #if(l2 >= 0):\n",
        "   #   print(split2)\n",
        "    return 1, label   "
      ]
    },
    {
      "cell_type": "code",
      "execution_count": null,
      "metadata": {
        "id": "x1B4tySKlLv0"
      },
      "outputs": [],
      "source": [
        "#indicator attempt 2\n",
        "def indicator2(dtree, datapoint, yval):\n",
        "  split1 = dtree.head.child1.attr\n",
        "  dataVal1 = datapoint[split1]\n",
        "  searchNode = dtree.head.child1\n",
        "  if(dataVal1 == 0):\n",
        "    if(searchNode.child1.attr!= -2):\n",
        "      split2 = searchNode.child1.attr\n",
        "      dataVal2 = datapoint[split2]\n",
        "      if(dataVal2 == 0):\n",
        "        label = searchNode.child1.child1.attrVal\n",
        "      elif(dataVal2 == 1):\n",
        "        label = searchNode.child2.child1.attrVal\n",
        "    elif(searchNode.child1.attr == -2):\n",
        "      label = searchNode.child1.attrVal\n",
        "  elif(dataVal1 == 1):\n",
        "    searchNode_1 = dtree.head.child2\n",
        "    if(searchNode_1.child1.attr != -2):\n",
        "      split2_1 = searchNode.child1.attr\n",
        "      dataVal2_1 = datapoint[split2_1]\n",
        "      if(dataVal2_1 == 0):\n",
        "        label = searchNode_1.child1.child1.attrVal\n",
        "      elif(dataVal2_1 == 1):\n",
        "        label = searchNode_1.child2.child1.attrVal\n",
        "    elif(searchNode_1.child1.attr == -2):\n",
        "      label = searchNode.child1.attrVal\n",
        "  if(label == yval):\n",
        "    return 0, label\n",
        "  elif(label != yval):\n",
        "    return 1, label"
      ]
    },
    {
      "cell_type": "code",
      "execution_count": null,
      "metadata": {
        "colab": {
          "base_uri": "https://localhost:8080/"
        },
        "id": "x_ph_kQ1UcDM",
        "outputId": "0667329e-08a9-4ce5-8221-ff954eec160b"
      },
      "outputs": [
        {
          "output_type": "stream",
          "name": "stdout",
          "text": [
            "(1, 0) 1\n"
          ]
        }
      ],
      "source": [
        "#brief check to see if above function is working properly\n",
        "testpt = 32\n",
        "print(indicator(treeList[6800], x_train[testpt,:], y_train[testpt]), y_train[testpt])\n",
        "\n"
      ]
    },
    {
      "cell_type": "code",
      "execution_count": null,
      "metadata": {
        "id": "nuMZCh0ZOCH8"
      },
      "outputs": [],
      "source": [
        "from numpy.core.getlimits import inf\n",
        "#find minimum error\n",
        "def minError(x_dataset, y_dataset, listOfTrees, weights):\n",
        "  errList = list()\n",
        "  #initialize min error found to infinity, no best tree yet\n",
        "  minError = inf\n",
        "  bestTree = None\n",
        "  #for each possible classifier\n",
        "  for i in range(len(listOfTrees)):\n",
        "    error = 0\n",
        "    #sum the weighted error\n",
        "    for j in range(0,x_dataset.shape[0]):\n",
        "      indVal,pred = indicator(listOfTrees[i], x_dataset[j,:], y_dataset[j])\n",
        "      if(pred^y_dataset[j]!=indVal):\n",
        "        print(\"Error:\", j)\n",
        "      error += weights[j]*indVal\n",
        "    errList.append(error)\n",
        "    #if the error found is less than the previous best, keep track of the error and tree\n",
        "    #if(error < minError):\n",
        "    #  minError = error\n",
        "    #  bestTree = listOfTrees[i]\n",
        "  minError = min(errList)\n",
        "  bestTree = listOfTrees[errList.index(minError)]\n",
        "  maxError = max(errList)\n",
        "  bestTreeInv = listOfTrees[errList.index(maxError)]\n",
        "\n",
        "  return minError, bestTree, maxError, bestTreeInv"
      ]
    },
    {
      "cell_type": "code",
      "execution_count": null,
      "metadata": {
        "colab": {
          "base_uri": "https://localhost:8080/"
        },
        "id": "ZfZzbVzIQONv",
        "outputId": "f896d0ee-dfdc-4f17-9f2e-2b7c1d103f19"
      },
      "outputs": [
        {
          "output_type": "stream",
          "name": "stdout",
          "text": [
            "(0.21250000000000005, <__main__.DecisionTree object at 0x7f52d7f1ac70>, 0.7874999999999992, <__main__.DecisionTree object at 0x7f52d7f1afd0>)\n",
            "0.9999999999999992\n"
          ]
        }
      ],
      "source": [
        "#test of above function before writing full adaBoost\n",
        "weightArr = np.arange(x_train.shape[0], dtype=float)\n",
        "for i in range(x_train.shape[0]):\n",
        "  weightArr[i] = 1/x_train.shape[0]\n",
        "output = minError(x_train, y_train, treeList, weightArr)\n",
        "print(output)\n",
        "print(output[0] + output[2])"
      ]
    },
    {
      "cell_type": "code",
      "execution_count": null,
      "metadata": {
        "colab": {
          "base_uri": "https://localhost:8080/"
        },
        "id": "yKTZ_5f8TQMl",
        "outputId": "7d065a89-1349-4668-f5ce-7ba39edc1158"
      },
      "outputs": [
        {
          "output_type": "stream",
          "name": "stdout",
          "text": [
            "3619\n"
          ]
        }
      ],
      "source": [
        "#check to see if the tree being found exhibits odd behavior (only selects extremes, etc.)\n",
        "for i in range(len(treeList)):\n",
        "  if (treeList[i] == output[1]):\n",
        "    print(i)"
      ]
    },
    {
      "cell_type": "code",
      "execution_count": null,
      "metadata": {
        "id": "1Gw5e_viSfPS"
      },
      "outputs": [],
      "source": [
        "from math import log, exp, sqrt\n",
        "def adaBoost(x_data, y_data, max_iter):\n",
        "  #initialize all weights to be equal\n",
        "  flipPred = 1\n",
        "  weightArr = np.arange(x_data.shape[0], dtype=float)\n",
        "  for i in range(x_data.shape[0]):\n",
        "      weightArr[i] = 1/x_data.shape[0]\n",
        "  elist = list()\n",
        "  alphalist = list()\n",
        "  bestTreeList = list()\n",
        "  weightList = list()\n",
        "  flipped = list()\n",
        "  for i in range(max_iter):\n",
        "    #find e_t and tree for the given iteration\n",
        "    output = minError(x_data, y_data, treeList, weightArr)\n",
        "    minE = output[0]\n",
        "    maxE = 1-output[2]\n",
        "    if(maxE > minE or maxE <= 0 or maxE >= 1):\n",
        "      err = output[0]\n",
        "      bestTr = output[1]\n",
        "    else:\n",
        "      flipPred = -1\n",
        "      err = 1-output[2]\n",
        "      bestTr = output[3]\n",
        "    elist.append(err)\n",
        "    bestTreeList.append(bestTr)\n",
        "\n",
        "    #calculate alpha_t\n",
        "    print(err)\n",
        "    alpha = 0.5*log((1-err)/err)\n",
        "    alphalist.append(alpha)\n",
        "    #print(alpha)\n",
        "    #update the weights\n",
        "    weightList.append(copy.deepcopy(weightArr))\n",
        "    for j in range(x_data.shape[0]):\n",
        "      pred = indicator(bestTr, x_data[j,:], y_data[j])\n",
        "      if(pred[1] == 0):\n",
        "        h_t_x = -1*flipPred\n",
        "      else:\n",
        "        h_t_x = 1*flipPred\n",
        "      w = weightArr[j]\n",
        "      adjust = exp((-1*y_data[j]*h_t_x*alpha))\n",
        "      normalize = 2*sqrt(err*(1-err))\n",
        "      weightArr[j] = (w*adjust)/normalize\n",
        "      #weightArr[j] = (weightArr[j] * exp(-y_data[j]*h_t_x*alpha))/(2*sqrt(output[0]*(1-output[0])))\n",
        "\n",
        "    #debug: check that weight sums == 1\n",
        "    sum = 0\n",
        "    for j in range(weightArr.shape[0]):\n",
        "      sum += weightArr[j]\n",
        "    print(sum)\n",
        "\n",
        "    flipped.append(flipPred)\n",
        "\n",
        "  return elist, alphalist, bestTreeList, weightList, flipped"
      ]
    },
    {
      "cell_type": "code",
      "execution_count": null,
      "metadata": {
        "id": "AdnS4xyO3Lqg"
      },
      "outputs": [],
      "source": [
        "from math import log, exp, sqrt\n",
        "def adaBoost_prev(x_data, y_data, max_iter):\n",
        "  #initialize all weights to be equal\n",
        "  weightArr = np.arange(x_data.shape[0], dtype=float)\n",
        "  for i in range(x_data.shape[0]):\n",
        "      weightArr[i] = 1/x_data.shape[0]\n",
        "  elist = list()\n",
        "  alphalist = list()\n",
        "  bestTreeList = list()\n",
        "  weightList = list()\n",
        "  flipped = list()\n",
        "  for i in range(max_iter):\n",
        "    #find e_t and tree for the given iteration\n",
        "    output = minError(x_data, y_data, treeList, weightArr)\n",
        "    err = output[0]\n",
        "    bestTr = output[1]\n",
        "    elist.append(err)\n",
        "    bestTreeList.append(bestTr)\n",
        "\n",
        "    #calculate alpha_t\n",
        "    print(err)\n",
        "    alpha = 0.5*log((1-err)/err)\n",
        "    alphalist.append(alpha)\n",
        "    #print(alpha)\n",
        "    #update the weights\n",
        "    weightList.append(copy.deepcopy(weightArr))\n",
        "    recalculated_e = 0 #\n",
        "    for j in range(x_data.shape[0]):\n",
        "      pred = indicator(bestTr, x_data[j,:], y_data[j])\n",
        "      if(pred[1] == 0):\n",
        "        h_t_x = -1\n",
        "      else:\n",
        "        h_t_x = 1\n",
        "\n",
        "      w = weightArr[j]\n",
        "      if(y_data[j] == 0):\n",
        "        y = -1\n",
        "      else:\n",
        "        y = 1\n",
        "      adjust = exp((-1*y*h_t_x*alpha))\n",
        "      normalize = 2*sqrt(err*(1-err))\n",
        "      weightArr[j] = (w*adjust)/normalize\n",
        "      #weightArr[j] = (weightArr[j] * exp(-y_data[j]*h_t_x*alpha))/(2*sqrt(output[0]*(1-output[0])))\n",
        "\n",
        "    #debug: check that weight sums == 1\n",
        "    sum = 0\n",
        "    for j in range(weightArr.shape[0]):\n",
        "      sum += weightArr[j]\n",
        "    print(sum)\n",
        "\n",
        "    flipped.append(1)\n",
        "\n",
        "  return elist, alphalist, bestTreeList, weightList, flipped"
      ]
    },
    {
      "cell_type": "code",
      "execution_count": null,
      "metadata": {
        "colab": {
          "base_uri": "https://localhost:8080/"
        },
        "id": "25kdMA5DeUbr",
        "outputId": "8e03b6cd-91f9-4539-f772-3c573880cb8b"
      },
      "outputs": [
        {
          "output_type": "stream",
          "name": "stdout",
          "text": [
            "(0, 1)\n"
          ]
        },
        {
          "output_type": "execute_result",
          "data": {
            "text/plain": [
              "-1"
            ]
          },
          "metadata": {},
          "execution_count": 11
        }
      ],
      "source": [
        "#snippet to solve the problem of forgetting to change 0 labels to -1\n",
        "pred = indicator(treeList[2353], x_train[34,:], y_train[34])\n",
        "print(pred)\n",
        "if(pred[0] == 0):\n",
        "  h_t_x = -1\n",
        "else:\n",
        "  h_t_x = 1;\n",
        "h_t_x"
      ]
    },
    {
      "cell_type": "code",
      "execution_count": null,
      "metadata": {
        "colab": {
          "base_uri": "https://localhost:8080/"
        },
        "id": "FG5a0bdpgeoi",
        "outputId": "6bd4ff35-4049-423c-c3dd-fd0270653b68"
      },
      "outputs": [
        {
          "output_type": "stream",
          "name": "stdout",
          "text": [
            "0.21250000000000005\n",
            "0.9999999999999993\n",
            "0.31932773109243706\n",
            "1.0000000000000007\n",
            "0.3665619810843981\n",
            "1.0000000000000009\n",
            "0.3073301040034191\n",
            "1.0000000000000007\n",
            "0.3609222826701768\n",
            "1.0000000000000009\n"
          ]
        }
      ],
      "source": [
        "e_l, a_l, bT_l, w_l, f_l = adaBoost_prev(x_train, y_train, 5)"
      ]
    },
    {
      "cell_type": "code",
      "source": [
        "a_l"
      ],
      "metadata": {
        "colab": {
          "base_uri": "https://localhost:8080/"
        },
        "id": "S7AThgg2nwIs",
        "outputId": "9e3e3d9d-b547-4d67-bd74-7b9471cfead9"
      },
      "execution_count": null,
      "outputs": [
        {
          "output_type": "execute_result",
          "data": {
            "text/plain": [
              "[0.6549606911676581,\n",
              " 0.37843149747302635,\n",
              " 0.2734972663157064,\n",
              " 0.4063155589491071,\n",
              " 0.2856817093262064,\n",
              " 0.2774279006301844,\n",
              " 0.21206052926298508,\n",
              " 0.2939608813087992,\n",
              " 0.21569500159199742,\n",
              " 0.17234529706890792]"
            ]
          },
          "metadata": {},
          "execution_count": 23
        }
      ]
    },
    {
      "cell_type": "code",
      "execution_count": null,
      "metadata": {
        "colab": {
          "base_uri": "https://localhost:8080/"
        },
        "id": "-wYlHl7waCGk",
        "outputId": "fa7a2119-d879-47c3-8c13-58f179b63d70"
      },
      "outputs": [
        {
          "output_type": "stream",
          "name": "stdout",
          "text": [
            "3619\n",
            "1227\n",
            "1035\n",
            "2587\n",
            "1035\n"
          ]
        }
      ],
      "source": [
        "bT_l\n",
        "for i in range(len(bT_l)):\n",
        "  for j in range(len(treeList)):\n",
        "   if (treeList[j] == bT_l[i]):\n",
        "    print(j)\n"
      ]
    },
    {
      "cell_type": "code",
      "execution_count": null,
      "metadata": {
        "id": "sELRxeSI-w6O"
      },
      "outputs": [],
      "source": [
        "#construct classifier\n",
        "def classify(x_datum, y_datum, alist, bTr):\n",
        "  label = 0\n",
        "  for i in range(len(bTr)):\n",
        "    out = indicator(bTr[i], x_datum, y_datum)\n",
        "    pred = out[1]\n",
        "    if(pred == 0):\n",
        "      pred = -1\n",
        "    label += alist[i]*pred\n",
        "  return np.sign(label)\n",
        "\n",
        "def accuracy(x_data, y_data, alist, bTr):\n",
        "  acc = 1\n",
        "  misCount = 0\n",
        "  for i in range(len(x_data)):\n",
        "    classifyLabel = classify(x_data[i,:], y_data[i], alist, bTr)\n",
        "    if(classifyLabel == -1):\n",
        "      classifyLabel = 0\n",
        "    if(classifyLabel != y_data[i]):\n",
        "      misCount += 1\n",
        "  return 1 - (misCount / x_data.shape[0])"
      ]
    },
    {
      "cell_type": "code",
      "execution_count": null,
      "metadata": {
        "colab": {
          "base_uri": "https://localhost:8080/"
        },
        "id": "XKYuw5aC0KZr",
        "outputId": "efec52b2-0bd6-4774-aad3-6e1c4f692a4d"
      },
      "outputs": [
        {
          "output_type": "stream",
          "name": "stdout",
          "text": [
            "0.8125\n",
            "0.7647058823529411\n"
          ]
        }
      ],
      "source": [
        "print(accuracy(x_train, y_train, a_l, bT_l))\n",
        "print(accuracy(x_test, y_test, a_l, bT_l))"
      ]
    },
    {
      "cell_type": "code",
      "execution_count": null,
      "metadata": {
        "colab": {
          "base_uri": "https://localhost:8080/"
        },
        "id": "rzW-y7RJ33Q4",
        "outputId": "ab0d64e1-ea24-471c-f98e-3851705e70b2"
      },
      "outputs": [
        {
          "output_type": "stream",
          "name": "stdout",
          "text": [
            "0.21250000000000005\n",
            "0.9999999999999993\n",
            "0.21250000000000005\n",
            "0.9999999999999993\n",
            "0.31932773109243706\n",
            "1.0000000000000007\n",
            "0.21250000000000005\n",
            "0.9999999999999993\n",
            "0.31932773109243706\n",
            "1.0000000000000007\n",
            "0.3665619810843981\n",
            "1.0000000000000009\n",
            "0.21250000000000005\n",
            "0.9999999999999993\n",
            "0.31932773109243706\n",
            "1.0000000000000007\n",
            "0.3665619810843981\n",
            "1.0000000000000009\n",
            "0.3073301040034191\n",
            "1.0000000000000007\n",
            "0.21250000000000005\n",
            "0.9999999999999993\n",
            "0.31932773109243706\n",
            "1.0000000000000007\n",
            "0.3665619810843981\n",
            "1.0000000000000009\n",
            "0.3073301040034191\n",
            "1.0000000000000007\n",
            "0.3609222826701768\n",
            "1.0000000000000009\n",
            "0.21250000000000005\n",
            "0.9999999999999993\n",
            "0.31932773109243706\n",
            "1.0000000000000007\n",
            "0.3665619810843981\n",
            "1.0000000000000009\n",
            "0.3073301040034191\n",
            "1.0000000000000007\n",
            "0.3609222826701768\n",
            "1.0000000000000009\n",
            "0.3647385614997371\n",
            "1.0\n",
            "0.21250000000000005\n",
            "0.9999999999999993\n",
            "0.31932773109243706\n",
            "1.0000000000000007\n",
            "0.3665619810843981\n",
            "1.0000000000000009\n",
            "0.3073301040034191\n",
            "1.0000000000000007\n",
            "0.3609222826701768\n",
            "1.0000000000000009\n",
            "0.3647385614997371\n",
            "1.0\n",
            "0.3955310387872974\n",
            "0.9999999999999989\n",
            "0.21250000000000005\n",
            "0.9999999999999993\n",
            "0.31932773109243706\n",
            "1.0000000000000007\n",
            "0.3665619810843981\n",
            "1.0000000000000009\n",
            "0.3073301040034191\n",
            "1.0000000000000007\n",
            "0.3609222826701768\n",
            "1.0000000000000009\n",
            "0.3647385614997371\n",
            "1.0\n",
            "0.3955310387872974\n",
            "0.9999999999999989\n",
            "0.3571118404088816\n",
            "1.0000000000000004\n",
            "0.21250000000000005\n",
            "0.9999999999999993\n",
            "0.31932773109243706\n",
            "1.0000000000000007\n",
            "0.3665619810843981\n",
            "1.0000000000000009\n",
            "0.3073301040034191\n",
            "1.0000000000000007\n",
            "0.3609222826701768\n",
            "1.0000000000000009\n",
            "0.3647385614997371\n",
            "1.0\n",
            "0.3955310387872974\n",
            "0.9999999999999989\n",
            "0.3571118404088816\n",
            "1.0000000000000004\n",
            "0.39379446053587547\n",
            "1.0000000000000002\n",
            "0.21250000000000005\n",
            "0.9999999999999993\n",
            "0.31932773109243706\n",
            "1.0000000000000007\n",
            "0.3665619810843981\n",
            "1.0000000000000009\n",
            "0.3073301040034191\n",
            "1.0000000000000007\n",
            "0.3609222826701768\n",
            "1.0000000000000009\n",
            "0.3647385614997371\n",
            "1.0\n",
            "0.3955310387872974\n",
            "0.9999999999999989\n",
            "0.3571118404088816\n",
            "1.0000000000000004\n",
            "0.39379446053587547\n",
            "1.0000000000000002\n",
            "0.41467052753195976\n",
            "0.9999999999999999\n"
          ]
        }
      ],
      "source": [
        "#generate ouput for graphs\n",
        "rounds = 10\n",
        "accTrainl = list()\n",
        "accTestl = list()\n",
        "for i in range(1, rounds+1):\n",
        "  e_l, a_l, bT_l, w_l, f_l = adaBoost_prev(x_train, y_train, i)\n",
        "  accTrainl.append(accuracy(x_train, y_train, a_l, bT_l))\n",
        "  accTestl.append(accuracy(x_test, y_test, a_l, bT_l))\n"
      ]
    },
    {
      "cell_type": "code",
      "execution_count": null,
      "metadata": {
        "id": "xQQY180Q5Qm0",
        "colab": {
          "base_uri": "https://localhost:8080/"
        },
        "outputId": "3a340c79-ab6f-4d69-f44c-b0035bdcaf9a"
      },
      "outputs": [
        {
          "output_type": "stream",
          "name": "stdout",
          "text": [
            "[0.7875, 0.7875, 0.7875, 0.8125, 0.8125, 0.825, 0.8625, 0.8625, 0.8625, 0.8625] \n",
            " [0.7112299465240641, 0.7112299465240641, 0.7112299465240641, 0.7647058823529411, 0.7647058823529411, 0.786096256684492, 0.786096256684492, 0.786096256684492, 0.7754010695187166, 0.7700534759358288]\n"
          ]
        }
      ],
      "source": [
        "print(accTrainl, \"\\n\", accTestl)"
      ]
    }
  ],
  "metadata": {
    "colab": {
      "provenance": [],
      "include_colab_link": true
    },
    "kernelspec": {
      "display_name": "Python 3",
      "name": "python3"
    },
    "language_info": {
      "name": "python"
    }
  },
  "nbformat": 4,
  "nbformat_minor": 0
}